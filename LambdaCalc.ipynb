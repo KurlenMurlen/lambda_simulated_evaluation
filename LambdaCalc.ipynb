{
  "nbformat": 4,
  "nbformat_minor": 0,
  "metadata": {
    "colab": {
      "provenance": [],
      "include_colab_link": true
    },
    "kernelspec": {
      "name": "python3",
      "display_name": "Python 3"
    },
    "language_info": {
      "name": "python"
    }
  },
  "cells": [
    {
      "cell_type": "markdown",
      "metadata": {
        "id": "view-in-github",
        "colab_type": "text"
      },
      "source": [
        "<a href=\"https://colab.research.google.com/github/KurlenMurlen/lambda_simulated_evaluation/blob/main/LambdaCalc.ipynb\" target=\"_parent\"><img src=\"https://colab.research.google.com/assets/colab-badge.svg\" alt=\"Open In Colab\"/></a>"
      ]
    },
    {
      "cell_type": "markdown",
      "source": [
        "### Simulado || Cálculo Lambda || RA2 - Tarso Bertolini Rodrigues - 4B"
      ],
      "metadata": {
        "id": "kFhwNV2x3RWT"
      }
    },
    {
      "cell_type": "markdown",
      "source": [
        "1. Considere a função `foldRight` para listas em cálculo lambda:\n",
        "   $$ \\text{foldRight} = Y\\;(\\lambda f. \\lambda g. \\lambda a. \\lambda l. l\\;(\\lambda h. \\lambda t. g\\;h\\;(f\\;g\\;a\\;t))\\;a) $$\n",
        "   Onde $Y$ é o combinador de ponto fixo. Use `foldRight` para implementar a função `length` que calcula o comprimento de uma lista.\n",
        "\n",
        "2. Aplique a função `head` à lista $[5, 6, 7]$ construída no cálculo lambda. A função `head` é definida como:\n",
        "   $$ \\text{head} = \\lambda l.\\;l\\;(\\lambda h. \\lambda t.\\;h)\\;(\\lambda x.\\;x) $$\n",
        "\n",
        "3. Calcule a expressão $(\\lambda x.\\;x)\\;((\\lambda y.\\;y+1)\\;5)\\,$.\n",
        "\n",
        "4. Aplique a função $\\text{Not}$ ao valor $\\text{True}\\,$. A função $\\text{Not}$ é definida como:\n",
        "   $$ \\text{Not} = \\lambda b.\\;b\\;\\text{False}\\;\\text{True} $$\n",
        "\n",
        "5. Aplique a redução-$\\alpha$ na expressão $\\lambda x.\\;(\\lambda y.\\;x - y)\\,$, renomeando $y$ para $v$ utilizando a redução-$\\alpha\\,$.\n",
        "\n",
        "6. Dada a função de multiplicação em cálculo lambda:\n",
        "   $$ \\text{mult} = \\lambda m. \\lambda n. \\lambda f. m\\;(n\\;f) $$\n",
        "   Calcule $\\text{mult}\\;2\\;3$ usando os números de Church.\n",
        "\n",
        "7. Considere o combinador Y definido como:\n",
        "   $$ Y = \\lambda f. (\\lambda x. f\\;(x\\;x)) (\\lambda x. f\\;(x\\;x)) $$\n",
        "   Aplique o combinador Y à função $\\lambda f. \\lambda n. \\text{if}\\;n = 0\\;\\text{then}\\;1\\;\\text{else}\\;n \\times (f\\;(n-1))$ para definir a função fatorial.\n",
        "\n",
        "8. Dado o combinador de composição $B$ definido como:\n",
        "   $$ B = \\lambda f. \\lambda g. \\lambda x. f\\;(g\\;x) $$\n",
        "   Aplique $B$ às funções $\\lambda x. x + 1$ e $\\lambda x. x \\times 2$, e então aplique o resultado a 3.\n",
        "\n",
        "9. Considere a função `map` para listas em cálculo lambda:\n",
        "   $$ \\text{map} = Y\\;(\\lambda f. \\lambda g. \\lambda l. l\\;(\\lambda h. \\lambda t. \\text{cons}\\;(g\\;h)\\;(f\\;g\\;t))\\;\\text{nil}) $$\n",
        "   Onde $Y$ é o combinador de ponto fixo, `cons` é o construtor de lista, e `nil` é a lista vazia. Aplique `map` à lista $[1, 2, 3]$ com a função $g = \\lambda x. x \\times 2\\,$.\n",
        "\n",
        "10. Dada a definição do combinador $S$:\n",
        "    \n",
        "    $$ S = \\lambda x. \\lambda y. \\lambda z. x\\;z\\;(y\\;z)$$\n",
        "    \n",
        "    Calcule $S\\;K\\;K\\;x$, onde $K = \\lambda x. \\lambda y. x$ é o combinador constante."
      ],
      "metadata": {
        "id": "3s1jjcLqF5iF"
      }
    },
    {
      "cell_type": "markdown",
      "source": [
        "### QUESTAO 1\n",
        "**Possível implementação:**\n",
        "$$ length = foldRight (λx.λacc. succ acc) 0 $$\n",
        "**Função acumuladora:**\n",
        "\n",
        "$$(λx.λacc. succ acc)$$ ignora o elemento x da lista, mas incrementa o acumulador acc com o operador succ, que representa a operação de adicionar 1 ao acumulador.\n",
        "\n",
        "**Valor inicial:**\n",
        " O valor inicial do acumulador é 0, pois o comprimento de uma lista vazia é 0.\n",
        "foldRight:\n",
        " A função $$foldRight$$ percorre a lista recursivamente, aplicando a função acumuladora a cada elemento da lista, acumulando o resultado.\n",
        "\n",
        "**A função length calcula o comprimento da lista ao usar o foldRight para contar os elementos.**\n"
      ],
      "metadata": {
        "id": "mRyX-Sti33Ol"
      }
    },
    {
      "cell_type": "markdown",
      "source": [
        "### QUESTÃO 2\n",
        "$$[5,6,7] ≡ Cons(5, Cons(6, Cons(7, Nil))) = λf. f 5 (λf. f 6 (λf. f 7 (λf. f)))\n",
        "$$\n",
        "Aplicando head\n",
        "\n",
        "\n",
        "```\n",
        "head [5,6,7]\n",
        "= (λl. l (λh.λt. h) (λx. x)) [5,6,7]\n",
        "= [5,6,7] (λh.λt. h) (λx.x)\n",
        "= (λf. f 5 (λf. f 6 (λf. f 7 (λf. f)))) (λh.λt. h) (λx.x)\n",
        "```\n",
        "Aplicando a lista à função:\n",
        "\n",
        "\n",
        "\n",
        "```\n",
        "(λf. f 5 (λf. f 6 (λf. f 7 (λf. f)))) (λh.λt. h)\n",
        "= (λh.λt.h) 5 (λf. f 6 (λf. f 7 (λf. f)))\n",
        "= 5\n",
        "```\n",
        "\n",
        "**o resultado da aplicação de head [5,6,7] é 5.**\n"
      ],
      "metadata": {
        "id": "mERRi7oo5QIi"
      }
    },
    {
      "cell_type": "markdown",
      "source": [
        "### QUESTÃO 3\n",
        "\n",
        "\n",
        "```\n",
        "(λy.y+1)5=5+1=6\n",
        "\n",
        "(λx.x)6\n",
        "\n",
        "(λx.x)6=6\n",
        "```\n",
        "\n",
        "**A expressão\n",
        "(\n",
        "𝜆\n",
        "𝑥\n",
        ".\n",
        "𝑥\n",
        ")\n",
        "(\n",
        "(\n",
        "𝜆\n",
        "𝑦\n",
        ".\n",
        "𝑦\n",
        "+\n",
        "1\n",
        ")\n",
        "5\n",
        ")\n",
        "(λx.x)((λy.y+1)5) avalia para\n",
        "6\n",
        "6.**"
      ],
      "metadata": {
        "id": "nHxjfaz16IJq"
      }
    },
    {
      "cell_type": "markdown",
      "source": [
        "### QUESTÃO 4\n",
        "\n",
        "\n",
        "```\n",
        "Not = λb. b False True\n",
        "True = λx.λy. x\n",
        "False = λx.λy. y\n",
        "\n",
        "Not True\n",
        "= (λb. b False True) True\n",
        "= True False True\n",
        "\n",
        "True False True\n",
        "= (λx.λy. x) False True\n",
        "= False\n",
        "\n",
        "```\n",
        "**A aplicação de Not ao valor True resulta em False.**\n",
        "\n"
      ],
      "metadata": {
        "id": "wLstgnhR6k4U"
      }
    },
    {
      "cell_type": "markdown",
      "source": [
        "### QUESTÃO 5\n",
        "$$λx.(λy.x−y) -> λx.(λv.x−v)$$\n",
        "O escopo da variável y está confinado dentro da função\n",
        "Depois de aplicar a redução teta:\n",
        "$$λx.(λv.x−v)$$"
      ],
      "metadata": {
        "id": "UXLJ0DLb62LK"
      }
    },
    {
      "cell_type": "markdown",
      "source": [
        "### QUESTÃO 6\n",
        "\n",
        "\n",
        "```\n",
        "2=λf.λx.f(f(x))\n",
        "3=𝜆𝑓.𝜆𝑥.𝑓(𝑓(𝑓(𝑥)))\n",
        "3=λf.λx.f(f(f(x)))\n",
        "\n",
        "mult=λm.λn.λf.m(nf)\n",
        "\n",
        "mult 2 3=(λm.λn.λf.m(nf)) 2 3\n",
        "(λm.λn.λf.m(nf)) 2=λn.λf.2(nf)\n",
        "(λn.λf.2(nf)) 3=λf.2(3f)\n",
        "2(3f)=(λf.λx.f(f(x)))(3f)\n",
        "2(3f)=λx.3f(3f(x))\n",
        "3f(x)=f(f(f(x)))\n",
        "λx.f(f(f(f(f(f(x))))))\n",
        "\n",
        "```\n",
        "**Essa expressão corresponde ao número 6, pois aplica a função\n",
        "𝑓\n",
        "f seis vezes a\n",
        "𝑥\n",
        "x.**\n",
        "\n"
      ],
      "metadata": {
        "id": "R9IT9cN07k07"
      }
    },
    {
      "cell_type": "markdown",
      "source": [
        "### QUESTÃO 7\n",
        "\n",
        "\n",
        "```\n",
        "Y=λf.(λx.f(xx))(λx.f(xx))\n",
        "Fact=λf.λn.ifn=0then1elsen×f(n−1)\n",
        "YFact=(λf.(λx.f(xx))(λx.f(xx)))(λf.λn.ifn=0then1elsen×f(n−1))\n",
        "=(λx.Fact(xx))(λx.Fact(xx))\n",
        "=(λx.(λf.λn.ifn=0then1elsen×f(n−1))(xx))(λx.(λf.λn.ifn=0then1elsen×f(n−1))(xx))\n",
        "\n",
        "```\n",
        "**𝑌\n",
        "\n",
        "𝐹\n",
        "𝑎\n",
        "𝑐\n",
        "𝑡\n",
        "YFact define a função fatorial, que, ao ser aplicada a um número\n",
        "𝑛\n",
        "n, calculará\n",
        "𝑛\n",
        "!\n",
        "n! de maneira recursiva.**\n",
        "\n",
        "\n"
      ],
      "metadata": {
        "id": "1zlDBY5c8g41"
      }
    },
    {
      "cell_type": "markdown",
      "source": [
        "### QUESTÃO 8\n",
        "\n",
        "\n",
        "```\n",
        "B=λf.λg.λx.f(gx)\n",
        "f=λx.x+1 (uma função que soma 1 a x)\n",
        "g=λx.x×2 (uma função que multiplica x por 2)\n",
        "\n",
        "B(λx.x+1)(λx.x×2)=λx.(λx.x+1)((λx.x×2)x)\n",
        "(λx.(λx.x+1)((λx.x×2)x))3\n",
        "(λx.x×2)3=3×2=6\n",
        "(λx.x+1)6=6+1=7\n",
        "```\n",
        "**O resultado da aplicação de\n",
        "𝐵\n",
        "\n",
        "(\n",
        "𝜆\n",
        "𝑥\n",
        ".\n",
        "𝑥\n",
        "+\n",
        "1\n",
        ")\n",
        "\n",
        "(\n",
        "𝜆\n",
        "𝑥\n",
        ".\n",
        "𝑥\n",
        "×\n",
        "2\n",
        ")\n",
        "B(λx.x+1)(λx.x×2) a\n",
        "3 é\n",
        "7.**\n",
        "\n"
      ],
      "metadata": {
        "id": "NrXo49jB9Gzk"
      }
    },
    {
      "cell_type": "markdown",
      "source": [
        "### QUESTÃO 9\n",
        "\n",
        "\n",
        "```\n",
        "map=Y(λf.λg.λl.l(λh.λt.cons(gh)(fgt))nil)\n",
        "\n",
        "```\n",
        "Y é o combinador de ponto fixo, que garante a recursão.\n",
        "g é a função que será aplicada a cada elemento da lista.\n",
        "l é a lista.\n",
        "cons é o construtor de listas (que adiciona um elemento no início da lista).\n",
        "nil é a lista vazia.\n",
        "\n",
        "\n",
        "\n",
        "```\n",
        "[1,2,3]≡cons(1,cons(2,cons(3,nil)))\n",
        "map g [1,2,3]=Y(λf.λg.λl.l(λh.λt.cons(gh)(fgt))nil) g (cons(1,cons(2,cons(3,nil))))\n",
        "g(1)=1×2=2\n",
        "g(2)=2×2=4\n",
        "g(3)=3×2=6\n",
        "cons(2,cons(4,cons(6,nil)))\n",
        "```\n",
        "**Aplicando\n",
        "𝑚\n",
        "𝑎\n",
        "𝑝\n",
        "map à lista\n",
        "[\n",
        "1\n",
        ",\n",
        "2\n",
        ",\n",
        "3\n",
        "]\n",
        "[1,2,3] com a função\n",
        "𝑔\n",
        "=\n",
        "𝜆\n",
        "𝑥\n",
        ".\n",
        "𝑥\n",
        "×\n",
        "2\n",
        "g=λx.x×2, obtemos a lista\n",
        "[2,4,6].**\n",
        "\n",
        "\n",
        "\n"
      ],
      "metadata": {
        "id": "smdEC5w39wz-"
      }
    },
    {
      "cell_type": "markdown",
      "source": [
        "### QUESTÃO 10\n",
        "\n",
        "\n",
        "```\n",
        "S=λx.λy.λz.xz(yz)\n",
        "K=λx.λy.x (combinador constante)\n",
        "\n",
        "S=λx.λy.λz.xz(yz)\n",
        "SK=λy.λz.Kz(yz)\n",
        "(SK)K=λz.Kz(Kz)\n",
        "Kz=λy.z\n",
        "λz.(λy.z)(λy.z)\n",
        "((SK)K)x=(λz.(λy.z)(λy.z))x\n",
        "λy.x\n",
        "O resultado da expressão SKK é simplesmente = X\n",
        "```\n",
        "\n"
      ],
      "metadata": {
        "id": "32yO6Jrj-i0X"
      }
    }
  ]
}